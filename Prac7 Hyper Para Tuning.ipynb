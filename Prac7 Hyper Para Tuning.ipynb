{
 "cells": [
  {
   "cell_type": "code",
   "execution_count": 1,
   "id": "4f206d0d",
   "metadata": {},
   "outputs": [],
   "source": [
    "import pandas as pd\n",
    "from sklearn.datasets import load_breast_cancer"
   ]
  },
  {
   "cell_type": "code",
   "execution_count": 2,
   "id": "ca3c3a87",
   "metadata": {},
   "outputs": [],
   "source": [
    "df = load_breast_cancer()"
   ]
  },
  {
   "cell_type": "code",
   "execution_count": 3,
   "id": "e5d67d9e",
   "metadata": {},
   "outputs": [],
   "source": [
    "x = df.data\n",
    "y = df.target"
   ]
  },
  {
   "cell_type": "code",
   "execution_count": 4,
   "id": "feedceb0",
   "metadata": {},
   "outputs": [],
   "source": [
    "from sklearn.model_selection import train_test_split"
   ]
  },
  {
   "cell_type": "code",
   "execution_count": 5,
   "id": "9cd5cf69",
   "metadata": {},
   "outputs": [],
   "source": [
    "xtrain , xtest ,ytrain , ytest = train_test_split(x ,y ,test_size=0.2)"
   ]
  },
  {
   "cell_type": "code",
   "execution_count": 6,
   "id": "a17648d1",
   "metadata": {},
   "outputs": [],
   "source": [
    "from sklearn.linear_model import LogisticRegression\n",
    "from sklearn.ensemble import RandomForestClassifier ,GradientBoostingClassifier\n",
    "from sklearn.svm import SVC"
   ]
  },
  {
   "cell_type": "code",
   "execution_count": 7,
   "id": "ca25f711",
   "metadata": {},
   "outputs": [],
   "source": [
    "lr = LogisticRegression()\n",
    "rf = RandomForestClassifier()\n",
    "gb = GradientBoostingClassifier()\n",
    "svc = SVC()"
   ]
  },
  {
   "cell_type": "code",
   "execution_count": 8,
   "id": "0d5ed93d",
   "metadata": {},
   "outputs": [],
   "source": [
    "from sklearn.metrics import accuracy_score"
   ]
  },
  {
   "cell_type": "code",
   "execution_count": 9,
   "id": "38a8b630",
   "metadata": {},
   "outputs": [
    {
     "name": "stderr",
     "output_type": "stream",
     "text": [
      "/home/f5/.local/lib/python3.10/site-packages/sklearn/linear_model/_logistic.py:444: ConvergenceWarning: lbfgs failed to converge (status=1):\n",
      "STOP: TOTAL NO. of ITERATIONS REACHED LIMIT.\n",
      "\n",
      "Increase the number of iterations (max_iter) or scale the data as shown in:\n",
      "    https://scikit-learn.org/stable/modules/preprocessing.html\n",
      "Please also refer to the documentation for alternative solver options:\n",
      "    https://scikit-learn.org/stable/modules/linear_model.html#logistic-regression\n",
      "  n_iter_i = _check_optimize_result(\n"
     ]
    },
    {
     "data": {
      "text/plain": [
       "0.9824561403508771"
      ]
     },
     "execution_count": 9,
     "metadata": {},
     "output_type": "execute_result"
    }
   ],
   "source": [
    "lr.fit(xtrain ,ytrain)\n",
    "pred = lr.predict(xtest)\n",
    "accuracy_score(ytest ,pred)"
   ]
  },
  {
   "cell_type": "code",
   "execution_count": 10,
   "id": "fb95692e",
   "metadata": {},
   "outputs": [
    {
     "data": {
      "text/plain": [
       "0.9912280701754386"
      ]
     },
     "execution_count": 10,
     "metadata": {},
     "output_type": "execute_result"
    }
   ],
   "source": [
    "rf.fit(xtrain ,ytrain)\n",
    "pred = rf.predict(xtest)\n",
    "accuracy_score(ytest ,pred)"
   ]
  },
  {
   "cell_type": "code",
   "execution_count": 11,
   "id": "6d37d113",
   "metadata": {},
   "outputs": [
    {
     "data": {
      "text/plain": [
       "0.9649122807017544"
      ]
     },
     "execution_count": 11,
     "metadata": {},
     "output_type": "execute_result"
    }
   ],
   "source": [
    "svc.fit(xtrain ,ytrain)\n",
    "pred = svc.predict(xtest)\n",
    "accuracy_score(ytest ,pred)"
   ]
  },
  {
   "cell_type": "code",
   "execution_count": 12,
   "id": "1471ff81",
   "metadata": {},
   "outputs": [
    {
     "data": {
      "text/plain": [
       "0.9912280701754386"
      ]
     },
     "execution_count": 12,
     "metadata": {},
     "output_type": "execute_result"
    }
   ],
   "source": [
    "gb.fit(xtrain ,ytrain)\n",
    "pred = gb.predict(xtest)\n",
    "accuracy_score(ytest ,pred)"
   ]
  },
  {
   "cell_type": "code",
   "execution_count": 15,
   "id": "e8d324db",
   "metadata": {},
   "outputs": [],
   "source": [
    "from sklearn.model_selection import GridSearchCV ,RandomizedSearchCV"
   ]
  },
  {
   "cell_type": "code",
   "execution_count": 16,
   "id": "83b5bf97",
   "metadata": {},
   "outputs": [],
   "source": [
    "# number of trees in random forest\n",
    "n_estimators = [20,60,100,120]\n",
    "\n",
    "# number of features to consider at every split\n",
    "max_features = [0.2,0.6,1.0]\n",
    "\n",
    "# maximum number of labels in tree\n",
    "max_depth =[2,8,None]\n",
    "\n",
    "# number of samples\n",
    "max_samples = [0.5,0.75,1.0]"
   ]
  },
  {
   "cell_type": "code",
   "execution_count": 17,
   "id": "21128a1e",
   "metadata": {},
   "outputs": [],
   "source": [
    "param_grid = {'n_estimators' : n_estimators,\n",
    "              'max_features' : max_features,\n",
    "              'max_depth' : max_depth,\n",
    "              'max_samples' : max_samples} "
   ]
  },
  {
   "cell_type": "code",
   "execution_count": 18,
   "id": "8d3104b5",
   "metadata": {},
   "outputs": [],
   "source": [
    "rf_grid = GridSearchCV(estimator = rf,\n",
    "                       param_grid = param_grid,\n",
    "                       cv =5,\n",
    "                       verbose=2,\n",
    "                       n_jobs=-1)"
   ]
  },
  {
   "cell_type": "code",
   "execution_count": 20,
   "id": "65ec5991",
   "metadata": {},
   "outputs": [
    {
     "name": "stdout",
     "output_type": "stream",
     "text": [
      "Fitting 5 folds for each of 108 candidates, totalling 540 fits\n",
      "[CV] END max_depth=2, max_features=0.2, max_samples=0.5, n_estimators=20; total time=   0.1s\n",
      "[CV] END max_depth=2, max_features=0.2, max_samples=0.5, n_estimators=20; total time=   0.1s\n",
      "[CV] END max_depth=2, max_features=0.2, max_samples=0.5, n_estimators=20; total time=   0.1s\n",
      "[CV] END max_depth=2, max_features=0.2, max_samples=0.5, n_estimators=60; total time=   0.3s\n",
      "[CV] END max_depth=2, max_features=0.2, max_samples=0.5, n_estimators=60; total time=   0.3s\n",
      "[CV] END max_depth=2, max_features=0.2, max_samples=0.5, n_estimators=100; total time=   0.5s\n",
      "[CV] END max_depth=2, max_features=0.2, max_samples=0.5, n_estimators=100; total time=   0.8s\n",
      "[CV] END max_depth=2, max_features=0.2, max_samples=0.5, n_estimators=100; total time=   0.8s\n",
      "[CV] END max_depth=2, max_features=0.2, max_samples=0.5, n_estimators=120; total time=   0.7s\n",
      "[CV] END max_depth=2, max_features=0.2, max_samples=0.5, n_estimators=120; total time=   1.3s\n",
      "[CV] END max_depth=2, max_features=0.2, max_samples=0.75, n_estimators=20; total time=   0.2s\n",
      "[CV] END max_depth=2, max_features=0.2, max_samples=0.75, n_estimators=20; total time=   0.3s\n",
      "[CV] END max_depth=2, max_features=0.2, max_samples=0.75, n_estimators=20; total time=   0.3s\n",
      "[CV] END max_depth=2, max_features=0.2, max_samples=0.75, n_estimators=20; total time=   0.1s\n",
      "[CV] END max_depth=2, max_features=0.2, max_samples=0.75, n_estimators=60; total time=   0.4s\n",
      "[CV] END max_depth=2, max_features=0.2, max_samples=0.75, n_estimators=60; total time=   0.4s\n",
      "[CV] END max_depth=2, max_features=0.2, max_samples=0.75, n_estimators=100; total time=   0.8s\n",
      "[CV] END max_depth=2, max_features=0.2, max_samples=0.75, n_estimators=100; total time=   0.5s\n",
      "[CV] END max_depth=2, max_features=0.2, max_samples=0.75, n_estimators=100; total time=   0.5s\n",
      "[CV] END max_depth=2, max_features=0.2, max_samples=0.75, n_estimators=120; total time=   0.6s\n",
      "[CV] END max_depth=2, max_features=0.2, max_samples=0.75, n_estimators=120; total time=   0.7s\n",
      "[CV] END max_depth=2, max_features=0.2, max_samples=1.0, n_estimators=20; total time=   0.2s\n",
      "[CV] END max_depth=2, max_features=0.2, max_samples=1.0, n_estimators=20; total time=   0.2s\n",
      "[CV] END max_depth=2, max_features=0.2, max_samples=1.0, n_estimators=20; total time=   0.1s\n",
      "[CV] END max_depth=2, max_features=0.2, max_samples=1.0, n_estimators=20; total time=   0.1s\n",
      "[CV] END max_depth=2, max_features=0.2, max_samples=1.0, n_estimators=60; total time=   0.5s\n",
      "[CV] END max_depth=2, max_features=0.2, max_samples=1.0, n_estimators=60; total time=   0.4s\n",
      "[CV] END max_depth=2, max_features=0.2, max_samples=1.0, n_estimators=100; total time=   0.5s\n",
      "[CV] END max_depth=2, max_features=0.2, max_samples=1.0, n_estimators=100; total time=   0.5s\n",
      "[CV] END max_depth=2, max_features=0.2, max_samples=1.0, n_estimators=100; total time=   0.5s\n",
      "[CV] END max_depth=2, max_features=0.2, max_samples=1.0, n_estimators=120; total time=   0.6s\n",
      "[CV] END max_depth=2, max_features=0.2, max_samples=1.0, n_estimators=120; total time=   0.6s\n",
      "[CV] END max_depth=2, max_features=0.6, max_samples=0.5, n_estimators=20; total time=   0.1s\n",
      "[CV] END max_depth=2, max_features=0.6, max_samples=0.5, n_estimators=20; total time=   0.1s\n",
      "[CV] END max_depth=2, max_features=0.6, max_samples=0.5, n_estimators=20; total time=   0.1s\n",
      "[CV] END max_depth=2, max_features=0.6, max_samples=0.5, n_estimators=20; total time=   0.1s\n",
      "[CV] END max_depth=2, max_features=0.6, max_samples=0.5, n_estimators=60; total time=   0.3s\n",
      "[CV] END max_depth=2, max_features=0.6, max_samples=0.5, n_estimators=60; total time=   0.3s\n",
      "[CV] END max_depth=2, max_features=0.6, max_samples=0.5, n_estimators=60; total time=   0.3s\n",
      "[CV] END max_depth=2, max_features=0.6, max_samples=0.5, n_estimators=100; total time=   0.5s\n",
      "[CV] END max_depth=2, max_features=0.6, max_samples=0.5, n_estimators=100; total time=   0.5s\n",
      "[CV] END max_depth=2, max_features=0.6, max_samples=0.5, n_estimators=120; total time=   0.7s\n",
      "[CV] END max_depth=2, max_features=0.6, max_samples=0.5, n_estimators=120; total time=   0.6s\n",
      "[CV] END max_depth=2, max_features=0.6, max_samples=0.5, n_estimators=120; total time=   0.6s\n",
      "[CV] END max_depth=2, max_features=0.6, max_samples=0.75, n_estimators=20; total time=   0.1s\n",
      "[CV] END max_depth=2, max_features=0.6, max_samples=0.75, n_estimators=60; total time=   0.3s\n",
      "[CV] END max_depth=2, max_features=0.6, max_samples=0.75, n_estimators=60; total time=   0.4s\n",
      "[CV] END max_depth=2, max_features=0.6, max_samples=0.75, n_estimators=100; total time=   0.6s\n",
      "[CV] END max_depth=2, max_features=0.6, max_samples=0.75, n_estimators=100; total time=   0.8s\n",
      "[CV] END max_depth=2, max_features=0.6, max_samples=0.75, n_estimators=100; total time=   0.6s\n",
      "[CV] END max_depth=2, max_features=0.6, max_samples=0.75, n_estimators=120; total time=   0.9s\n",
      "[CV] END max_depth=2, max_features=0.6, max_samples=0.75, n_estimators=120; total time=   0.9s\n",
      "[CV] END max_depth=2, max_features=0.6, max_samples=1.0, n_estimators=20; total time=   0.1s\n",
      "[CV] END max_depth=2, max_features=0.6, max_samples=1.0, n_estimators=20; total time=   0.2s\n",
      "[CV] END max_depth=2, max_features=0.6, max_samples=1.0, n_estimators=20; total time=   0.3s\n",
      "[CV] END max_depth=2, max_features=0.6, max_samples=1.0, n_estimators=20; total time=   0.2s\n",
      "[CV] END max_depth=2, max_features=0.6, max_samples=1.0, n_estimators=60; total time=   0.4s\n",
      "[CV] END max_depth=2, max_features=0.6, max_samples=1.0, n_estimators=60; total time=   0.4s\n",
      "[CV] END max_depth=2, max_features=0.6, max_samples=1.0, n_estimators=100; total time=   0.6s\n",
      "[CV] END max_depth=2, max_features=0.6, max_samples=1.0, n_estimators=100; total time=   0.6s\n",
      "[CV] END max_depth=2, max_features=0.6, max_samples=1.0, n_estimators=100; total time=   0.6s\n",
      "[CV] END max_depth=2, max_features=0.6, max_samples=1.0, n_estimators=120; total time=   0.7s\n",
      "[CV] END max_depth=2, max_features=0.6, max_samples=1.0, n_estimators=120; total time=   0.8s\n",
      "[CV] END max_depth=2, max_features=1.0, max_samples=0.5, n_estimators=20; total time=   0.1s\n",
      "[CV] END max_depth=2, max_features=1.0, max_samples=0.5, n_estimators=20; total time=   0.1s\n",
      "[CV] END max_depth=2, max_features=1.0, max_samples=0.5, n_estimators=20; total time=   0.1s\n",
      "[CV] END max_depth=2, max_features=1.0, max_samples=0.5, n_estimators=20; total time=   0.1s\n",
      "[CV] END max_depth=2, max_features=1.0, max_samples=0.5, n_estimators=60; total time=   0.4s\n",
      "[CV] END max_depth=2, max_features=1.0, max_samples=0.5, n_estimators=60; total time=   0.4s\n",
      "[CV] END max_depth=2, max_features=1.0, max_samples=0.5, n_estimators=100; total time=   0.6s\n",
      "[CV] END max_depth=2, max_features=1.0, max_samples=0.5, n_estimators=100; total time=   0.6s\n",
      "[CV] END max_depth=2, max_features=1.0, max_samples=0.5, n_estimators=100; total time=   0.6s\n",
      "[CV] END max_depth=2, max_features=1.0, max_samples=0.5, n_estimators=120; total time=   0.7s\n",
      "[CV] END max_depth=2, max_features=1.0, max_samples=0.5, n_estimators=120; total time=   0.7s\n",
      "[CV] END max_depth=2, max_features=1.0, max_samples=0.75, n_estimators=20; total time=   0.1s\n",
      "[CV] END max_depth=2, max_features=1.0, max_samples=0.75, n_estimators=20; total time=   0.1s\n",
      "[CV] END max_depth=2, max_features=1.0, max_samples=0.75, n_estimators=20; total time=   0.2s\n",
      "[CV] END max_depth=2, max_features=1.0, max_samples=0.75, n_estimators=20; total time=   0.1s\n",
      "[CV] END max_depth=2, max_features=1.0, max_samples=0.75, n_estimators=60; total time=   0.4s\n",
      "[CV] END max_depth=2, max_features=1.0, max_samples=0.75, n_estimators=60; total time=   0.4s\n",
      "[CV] END max_depth=2, max_features=1.0, max_samples=0.75, n_estimators=60; total time=   0.4s\n",
      "[CV] END max_depth=2, max_features=1.0, max_samples=0.75, n_estimators=100; total time=   0.7s\n",
      "[CV] END max_depth=2, max_features=1.0, max_samples=0.75, n_estimators=100; total time=   0.7s\n",
      "[CV] END max_depth=2, max_features=1.0, max_samples=0.75, n_estimators=120; total time=   0.8s\n",
      "[CV] END max_depth=2, max_features=1.0, max_samples=0.75, n_estimators=120; total time=   0.9s\n",
      "[CV] END max_depth=2, max_features=1.0, max_samples=0.75, n_estimators=120; total time=   0.8s\n",
      "[CV] END max_depth=2, max_features=1.0, max_samples=1.0, n_estimators=20; total time=   0.2s\n"
     ]
    },
    {
     "name": "stdout",
     "output_type": "stream",
     "text": [
      "[CV] END max_depth=2, max_features=0.2, max_samples=0.5, n_estimators=20; total time=   0.1s\n",
      "[CV] END max_depth=2, max_features=0.2, max_samples=0.5, n_estimators=20; total time=   0.1s\n",
      "[CV] END max_depth=2, max_features=0.2, max_samples=0.5, n_estimators=60; total time=   0.3s\n",
      "[CV] END max_depth=2, max_features=0.2, max_samples=0.5, n_estimators=60; total time=   0.3s\n",
      "[CV] END max_depth=2, max_features=0.2, max_samples=0.5, n_estimators=60; total time=   0.3s\n",
      "[CV] END max_depth=2, max_features=0.2, max_samples=0.5, n_estimators=100; total time=   0.5s\n",
      "[CV] END max_depth=2, max_features=0.2, max_samples=0.5, n_estimators=100; total time=   0.9s\n",
      "[CV] END max_depth=2, max_features=0.2, max_samples=0.5, n_estimators=120; total time=   0.9s\n",
      "[CV] END max_depth=2, max_features=0.2, max_samples=0.5, n_estimators=120; total time=   1.1s\n",
      "[CV] END max_depth=2, max_features=0.2, max_samples=0.5, n_estimators=120; total time=   1.3s\n",
      "[CV] END max_depth=2, max_features=0.2, max_samples=0.75, n_estimators=20; total time=   0.2s\n",
      "[CV] END max_depth=2, max_features=0.2, max_samples=0.75, n_estimators=60; total time=   0.3s\n",
      "[CV] END max_depth=2, max_features=0.2, max_samples=0.75, n_estimators=60; total time=   0.4s\n",
      "[CV] END max_depth=2, max_features=0.2, max_samples=0.75, n_estimators=60; total time=   0.4s\n",
      "[CV] END max_depth=2, max_features=0.2, max_samples=0.75, n_estimators=100; total time=   0.7s\n",
      "[CV] END max_depth=2, max_features=0.2, max_samples=0.75, n_estimators=100; total time=   0.5s\n",
      "[CV] END max_depth=2, max_features=0.2, max_samples=0.75, n_estimators=120; total time=   0.6s\n",
      "[CV] END max_depth=2, max_features=0.2, max_samples=0.75, n_estimators=120; total time=   0.6s\n",
      "[CV] END max_depth=2, max_features=0.2, max_samples=0.75, n_estimators=120; total time=   0.9s\n",
      "[CV] END max_depth=2, max_features=0.2, max_samples=1.0, n_estimators=20; total time=   0.1s\n",
      "[CV] END max_depth=2, max_features=0.2, max_samples=1.0, n_estimators=60; total time=   0.5s\n",
      "[CV] END max_depth=2, max_features=0.2, max_samples=1.0, n_estimators=60; total time=   0.4s\n",
      "[CV] END max_depth=2, max_features=0.2, max_samples=1.0, n_estimators=60; total time=   0.3s\n",
      "[CV] END max_depth=2, max_features=0.2, max_samples=1.0, n_estimators=100; total time=   0.5s\n",
      "[CV] END max_depth=2, max_features=0.2, max_samples=1.0, n_estimators=100; total time=   0.5s\n",
      "[CV] END max_depth=2, max_features=0.2, max_samples=1.0, n_estimators=120; total time=   0.6s\n",
      "[CV] END max_depth=2, max_features=0.2, max_samples=1.0, n_estimators=120; total time=   0.6s\n",
      "[CV] END max_depth=2, max_features=0.2, max_samples=1.0, n_estimators=120; total time=   0.6s\n",
      "[CV] END max_depth=2, max_features=0.6, max_samples=0.5, n_estimators=20; total time=   0.1s\n",
      "[CV] END max_depth=2, max_features=0.6, max_samples=0.5, n_estimators=60; total time=   0.3s\n",
      "[CV] END max_depth=2, max_features=0.6, max_samples=0.5, n_estimators=60; total time=   0.3s\n",
      "[CV] END max_depth=2, max_features=0.6, max_samples=0.5, n_estimators=100; total time=   0.5s\n",
      "[CV] END max_depth=2, max_features=0.6, max_samples=0.5, n_estimators=100; total time=   0.5s\n",
      "[CV] END max_depth=2, max_features=0.6, max_samples=0.5, n_estimators=100; total time=   0.5s\n",
      "[CV] END max_depth=2, max_features=0.6, max_samples=0.5, n_estimators=120; total time=   0.7s\n",
      "[CV] END max_depth=2, max_features=0.6, max_samples=0.5, n_estimators=120; total time=   0.6s\n",
      "[CV] END max_depth=2, max_features=0.6, max_samples=0.75, n_estimators=20; total time=   0.1s\n",
      "[CV] END max_depth=2, max_features=0.6, max_samples=0.75, n_estimators=20; total time=   0.1s\n",
      "[CV] END max_depth=2, max_features=0.6, max_samples=0.75, n_estimators=20; total time=   0.1s\n",
      "[CV] END max_depth=2, max_features=0.6, max_samples=0.75, n_estimators=20; total time=   0.1s\n",
      "[CV] END max_depth=2, max_features=0.6, max_samples=0.75, n_estimators=60; total time=   0.3s\n",
      "[CV] END max_depth=2, max_features=0.6, max_samples=0.75, n_estimators=60; total time=   0.3s\n",
      "[CV] END max_depth=2, max_features=0.6, max_samples=0.75, n_estimators=60; total time=   0.4s\n",
      "[CV] END max_depth=2, max_features=0.6, max_samples=0.75, n_estimators=100; total time=   0.6s\n",
      "[CV] END max_depth=2, max_features=0.6, max_samples=0.75, n_estimators=100; total time=   0.8s\n",
      "[CV] END max_depth=2, max_features=0.6, max_samples=0.75, n_estimators=120; total time=   0.9s\n",
      "[CV] END max_depth=2, max_features=0.6, max_samples=0.75, n_estimators=120; total time=   0.8s\n",
      "[CV] END max_depth=2, max_features=0.6, max_samples=0.75, n_estimators=120; total time=   0.8s\n",
      "[CV] END max_depth=2, max_features=0.6, max_samples=1.0, n_estimators=20; total time=   0.3s\n",
      "[CV] END max_depth=2, max_features=0.6, max_samples=1.0, n_estimators=60; total time=   0.5s\n",
      "[CV] END max_depth=2, max_features=0.6, max_samples=1.0, n_estimators=60; total time=   0.4s\n",
      "[CV] END max_depth=2, max_features=0.6, max_samples=1.0, n_estimators=60; total time=   0.4s\n",
      "[CV] END max_depth=2, max_features=0.6, max_samples=1.0, n_estimators=100; total time=   0.6s\n",
      "[CV] END max_depth=2, max_features=0.6, max_samples=1.0, n_estimators=100; total time=   0.6s\n",
      "[CV] END max_depth=2, max_features=0.6, max_samples=1.0, n_estimators=120; total time=   0.7s\n",
      "[CV] END max_depth=2, max_features=0.6, max_samples=1.0, n_estimators=120; total time=   0.8s\n",
      "[CV] END max_depth=2, max_features=0.6, max_samples=1.0, n_estimators=120; total time=   0.7s\n",
      "[CV] END max_depth=2, max_features=1.0, max_samples=0.5, n_estimators=20; total time=   0.1s\n",
      "[CV] END max_depth=2, max_features=1.0, max_samples=0.5, n_estimators=60; total time=   0.4s\n",
      "[CV] END max_depth=2, max_features=1.0, max_samples=0.5, n_estimators=60; total time=   0.4s\n",
      "[CV] END max_depth=2, max_features=1.0, max_samples=0.5, n_estimators=60; total time=   0.4s\n",
      "[CV] END max_depth=2, max_features=1.0, max_samples=0.5, n_estimators=100; total time=   0.6s\n",
      "[CV] END max_depth=2, max_features=1.0, max_samples=0.5, n_estimators=100; total time=   0.6s\n",
      "[CV] END max_depth=2, max_features=1.0, max_samples=0.5, n_estimators=120; total time=   0.7s\n",
      "[CV] END max_depth=2, max_features=1.0, max_samples=0.5, n_estimators=120; total time=   0.7s\n",
      "[CV] END max_depth=2, max_features=1.0, max_samples=0.5, n_estimators=120; total time=   0.7s\n",
      "[CV] END max_depth=2, max_features=1.0, max_samples=0.75, n_estimators=20; total time=   0.1s\n",
      "[CV] END max_depth=2, max_features=1.0, max_samples=0.75, n_estimators=60; total time=   0.4s\n",
      "[CV] END max_depth=2, max_features=1.0, max_samples=0.75, n_estimators=60; total time=   0.4s\n",
      "[CV] END max_depth=2, max_features=1.0, max_samples=0.75, n_estimators=100; total time=   0.7s\n",
      "[CV] END max_depth=2, max_features=1.0, max_samples=0.75, n_estimators=100; total time=   0.7s\n",
      "[CV] END max_depth=2, max_features=1.0, max_samples=0.75, n_estimators=100; total time=   0.7s\n",
      "[CV] END max_depth=2, max_features=1.0, max_samples=0.75, n_estimators=120; total time=   0.8s\n",
      "[CV] END max_depth=2, max_features=1.0, max_samples=0.75, n_estimators=120; total time=   0.8s\n",
      "[CV] END max_depth=2, max_features=1.0, max_samples=1.0, n_estimators=20; total time=   0.1s\n",
      "[CV] END max_depth=2, max_features=1.0, max_samples=1.0, n_estimators=20; total time=   0.1s\n",
      "[CV] END max_depth=2, max_features=1.0, max_samples=1.0, n_estimators=20; total time=   0.1s\n",
      "[CV] END max_depth=2, max_features=1.0, max_samples=1.0, n_estimators=20; total time=   0.2s\n",
      "[CV] END max_depth=2, max_features=1.0, max_samples=1.0, n_estimators=60; total time=   0.5s\n",
      "[CV] END max_depth=2, max_features=1.0, max_samples=1.0, n_estimators=60; total time=   0.5s\n",
      "[CV] END max_depth=2, max_features=1.0, max_samples=1.0, n_estimators=60; total time=   0.4s\n",
      "[CV] END max_depth=2, max_features=1.0, max_samples=1.0, n_estimators=100; total time=   1.0s\n",
      "[CV] END max_depth=2, max_features=1.0, max_samples=1.0, n_estimators=100; total time=   0.7s\n",
      "[CV] END max_depth=2, max_features=1.0, max_samples=1.0, n_estimators=120; total time=   0.9s\n",
      "[CV] END max_depth=2, max_features=1.0, max_samples=1.0, n_estimators=120; total time=   0.9s\n",
      "[CV] END max_depth=2, max_features=1.0, max_samples=1.0, n_estimators=120; total time=   0.9s\n",
      "[CV] END max_depth=8, max_features=0.2, max_samples=0.5, n_estimators=60; total time=   0.3s\n",
      "[CV] END max_depth=2, max_features=1.0, max_samples=1.0, n_estimators=60; total time=   0.5s\n",
      "[CV] END max_depth=2, max_features=1.0, max_samples=1.0, n_estimators=60; total time=   0.5s\n",
      "[CV] END max_depth=2, max_features=1.0, max_samples=1.0, n_estimators=100; total time=   0.8s\n",
      "[CV] END max_depth=2, max_features=1.0, max_samples=1.0, n_estimators=100; total time=   0.9s\n",
      "[CV] END max_depth=2, max_features=1.0, max_samples=1.0, n_estimators=100; total time=   0.7s\n",
      "[CV] END max_depth=2, max_features=1.0, max_samples=1.0, n_estimators=120; total time=   0.9s\n",
      "[CV] END max_depth=2, max_features=1.0, max_samples=1.0, n_estimators=120; total time=   1.0s\n",
      "[CV] END max_depth=8, max_features=0.2, max_samples=0.5, n_estimators=20; total time=   0.1s\n",
      "[CV] END max_depth=8, max_features=0.2, max_samples=0.5, n_estimators=20; total time=   0.1s\n",
      "[CV] END max_depth=8, max_features=0.2, max_samples=0.5, n_estimators=20; total time=   0.1s\n",
      "[CV] END max_depth=8, max_features=0.2, max_samples=0.5, n_estimators=20; total time=   0.1s\n",
      "[CV] END max_depth=8, max_features=0.2, max_samples=0.5, n_estimators=20; total time=   0.1s\n",
      "[CV] END max_depth=8, max_features=0.2, max_samples=0.5, n_estimators=60; total time=   0.3s\n",
      "[CV] END max_depth=8, max_features=0.2, max_samples=0.5, n_estimators=60; total time=   0.3s\n",
      "[CV] END max_depth=8, max_features=0.2, max_samples=0.5, n_estimators=100; total time=   0.6s\n",
      "[CV] END max_depth=8, max_features=0.2, max_samples=0.5, n_estimators=100; total time=   0.5s\n",
      "[CV] END max_depth=8, max_features=0.2, max_samples=0.5, n_estimators=100; total time=   0.8s\n",
      "[CV] END max_depth=8, max_features=0.2, max_samples=0.5, n_estimators=120; total time=   0.6s\n",
      "[CV] END max_depth=8, max_features=0.2, max_samples=0.5, n_estimators=120; total time=   0.6s\n",
      "[CV] END max_depth=8, max_features=0.2, max_samples=0.75, n_estimators=20; total time=   0.1s\n",
      "[CV] END max_depth=8, max_features=0.2, max_samples=0.75, n_estimators=20; total time=   0.1s\n",
      "[CV] END max_depth=8, max_features=0.2, max_samples=0.75, n_estimators=20; total time=   0.1s\n",
      "[CV] END max_depth=8, max_features=0.2, max_samples=0.75, n_estimators=20; total time=   0.1s\n",
      "[CV] END max_depth=8, max_features=0.2, max_samples=0.75, n_estimators=60; total time=   0.3s\n",
      "[CV] END max_depth=8, max_features=0.2, max_samples=0.75, n_estimators=60; total time=   0.3s\n",
      "[CV] END max_depth=8, max_features=0.2, max_samples=0.75, n_estimators=60; total time=   0.3s\n",
      "[CV] END max_depth=8, max_features=0.2, max_samples=0.75, n_estimators=100; total time=   0.5s\n",
      "[CV] END max_depth=8, max_features=0.2, max_samples=0.75, n_estimators=100; total time=   0.5s\n",
      "[CV] END max_depth=8, max_features=0.2, max_samples=0.75, n_estimators=120; total time=   0.7s\n",
      "[CV] END max_depth=8, max_features=0.2, max_samples=0.75, n_estimators=120; total time=   0.6s\n",
      "[CV] END max_depth=8, max_features=0.2, max_samples=0.75, n_estimators=120; total time=   0.6s\n",
      "[CV] END max_depth=8, max_features=0.2, max_samples=1.0, n_estimators=20; total time=   0.1s\n",
      "[CV] END max_depth=8, max_features=0.2, max_samples=1.0, n_estimators=60; total time=   0.5s\n",
      "[CV] END max_depth=8, max_features=0.2, max_samples=1.0, n_estimators=60; total time=   0.3s\n",
      "[CV] END max_depth=8, max_features=0.2, max_samples=1.0, n_estimators=100; total time=   0.6s\n",
      "[CV] END max_depth=8, max_features=0.2, max_samples=1.0, n_estimators=100; total time=   0.6s\n",
      "[CV] END max_depth=8, max_features=0.2, max_samples=1.0, n_estimators=100; total time=   0.6s\n",
      "[CV] END max_depth=8, max_features=0.2, max_samples=1.0, n_estimators=120; total time=   0.7s\n",
      "[CV] END max_depth=8, max_features=0.2, max_samples=1.0, n_estimators=120; total time=   0.7s\n",
      "[CV] END max_depth=8, max_features=0.6, max_samples=0.5, n_estimators=20; total time=   0.1s\n",
      "[CV] END max_depth=8, max_features=0.6, max_samples=0.5, n_estimators=20; total time=   0.1s\n",
      "[CV] END max_depth=8, max_features=0.6, max_samples=0.5, n_estimators=20; total time=   0.1s\n",
      "[CV] END max_depth=8, max_features=0.6, max_samples=0.5, n_estimators=20; total time=   0.1s\n",
      "[CV] END max_depth=8, max_features=0.6, max_samples=0.5, n_estimators=60; total time=   0.4s\n",
      "[CV] END max_depth=8, max_features=0.6, max_samples=0.5, n_estimators=60; total time=   0.4s\n",
      "[CV] END max_depth=8, max_features=0.6, max_samples=0.5, n_estimators=100; total time=   0.6s\n",
      "[CV] END max_depth=8, max_features=0.6, max_samples=0.5, n_estimators=100; total time=   0.6s\n",
      "[CV] END max_depth=8, max_features=0.6, max_samples=0.5, n_estimators=100; total time=   0.6s\n",
      "[CV] END max_depth=8, max_features=0.6, max_samples=0.5, n_estimators=120; total time=   0.8s\n",
      "[CV] END max_depth=8, max_features=0.6, max_samples=0.5, n_estimators=120; total time=   0.7s\n",
      "[CV] END max_depth=8, max_features=0.6, max_samples=0.75, n_estimators=20; total time=   0.1s\n",
      "[CV] END max_depth=8, max_features=0.6, max_samples=0.75, n_estimators=20; total time=   0.1s\n",
      "[CV] END max_depth=8, max_features=0.6, max_samples=0.75, n_estimators=20; total time=   0.2s\n",
      "[CV] END max_depth=8, max_features=0.6, max_samples=0.75, n_estimators=20; total time=   0.2s\n",
      "[CV] END max_depth=8, max_features=0.6, max_samples=0.75, n_estimators=60; total time=   0.5s\n",
      "[CV] END max_depth=8, max_features=0.6, max_samples=0.75, n_estimators=60; total time=   0.4s\n",
      "[CV] END max_depth=8, max_features=0.6, max_samples=0.75, n_estimators=100; total time=   1.0s\n",
      "[CV] END max_depth=8, max_features=0.6, max_samples=0.75, n_estimators=100; total time=   1.8s\n",
      "[CV] END max_depth=8, max_features=0.6, max_samples=0.75, n_estimators=100; total time=   2.0s\n",
      "[CV] END max_depth=8, max_features=0.6, max_samples=0.75, n_estimators=120; total time=   1.4s\n",
      "[CV] END max_depth=8, max_features=0.6, max_samples=0.75, n_estimators=120; total time=   1.5s\n",
      "[CV] END max_depth=8, max_features=0.6, max_samples=1.0, n_estimators=20; total time=   0.2s\n",
      "[CV] END max_depth=8, max_features=0.6, max_samples=1.0, n_estimators=20; total time=   0.2s\n",
      "[CV] END max_depth=8, max_features=0.6, max_samples=1.0, n_estimators=20; total time=   0.2s\n",
      "[CV] END max_depth=8, max_features=0.6, max_samples=1.0, n_estimators=20; total time=   0.2s\n",
      "[CV] END max_depth=8, max_features=0.6, max_samples=1.0, n_estimators=60; total time=   0.7s\n",
      "[CV] END max_depth=8, max_features=0.6, max_samples=1.0, n_estimators=60; total time=   0.5s\n",
      "[CV] END max_depth=8, max_features=0.6, max_samples=1.0, n_estimators=100; total time=   1.0s\n",
      "[CV] END max_depth=8, max_features=0.6, max_samples=1.0, n_estimators=100; total time=   1.1s\n",
      "[CV] END max_depth=8, max_features=0.6, max_samples=1.0, n_estimators=100; total time=   1.5s\n",
      "[CV] END max_depth=8, max_features=0.6, max_samples=1.0, n_estimators=120; total time=   2.1s\n",
      "[CV] END max_depth=8, max_features=0.6, max_samples=1.0, n_estimators=120; total time=   1.5s\n",
      "[CV] END max_depth=8, max_features=1.0, max_samples=0.5, n_estimators=20; total time=   0.2s\n",
      "[CV] END max_depth=8, max_features=1.0, max_samples=0.5, n_estimators=20; total time=   0.2s\n",
      "[CV] END max_depth=8, max_features=1.0, max_samples=0.5, n_estimators=20; total time=   0.4s\n",
      "[CV] END max_depth=8, max_features=1.0, max_samples=0.5, n_estimators=20; total time=   0.3s\n",
      "[CV] END max_depth=8, max_features=1.0, max_samples=0.5, n_estimators=20; total time=   0.2s\n",
      "[CV] END max_depth=8, max_features=1.0, max_samples=0.5, n_estimators=60; total time=   0.8s\n",
      "[CV] END max_depth=8, max_features=1.0, max_samples=0.5, n_estimators=60; total time=   0.8s\n",
      "[CV] END max_depth=8, max_features=1.0, max_samples=0.5, n_estimators=60; total time=   0.6s\n",
      "[CV] END max_depth=8, max_features=1.0, max_samples=0.5, n_estimators=100; total time=   1.1s\n",
      "[CV] END max_depth=8, max_features=1.0, max_samples=0.5, n_estimators=100; total time=   1.0s\n",
      "[CV] END max_depth=8, max_features=1.0, max_samples=0.5, n_estimators=120; total time=   1.3s\n",
      "[CV] END max_depth=8, max_features=1.0, max_samples=0.5, n_estimators=120; total time=   1.1s\n",
      "[CV] END max_depth=8, max_features=1.0, max_samples=0.5, n_estimators=120; total time=   1.2s\n",
      "[CV] END max_depth=8, max_features=1.0, max_samples=0.75, n_estimators=20; total time=   0.2s\n",
      "[CV] END max_depth=8, max_features=1.0, max_samples=0.75, n_estimators=60; total time=   0.8s\n"
     ]
    },
    {
     "name": "stdout",
     "output_type": "stream",
     "text": [
      "[CV] END max_depth=8, max_features=0.2, max_samples=0.5, n_estimators=60; total time=   0.3s\n",
      "[CV] END max_depth=8, max_features=0.2, max_samples=0.5, n_estimators=60; total time=   0.4s\n",
      "[CV] END max_depth=8, max_features=0.2, max_samples=0.5, n_estimators=100; total time=   0.5s\n",
      "[CV] END max_depth=8, max_features=0.2, max_samples=0.5, n_estimators=100; total time=   0.6s\n",
      "[CV] END max_depth=8, max_features=0.2, max_samples=0.5, n_estimators=120; total time=   0.7s\n",
      "[CV] END max_depth=8, max_features=0.2, max_samples=0.5, n_estimators=120; total time=   0.6s\n",
      "[CV] END max_depth=8, max_features=0.2, max_samples=0.5, n_estimators=120; total time=   0.6s\n",
      "[CV] END max_depth=8, max_features=0.2, max_samples=0.75, n_estimators=20; total time=   0.1s\n",
      "[CV] END max_depth=8, max_features=0.2, max_samples=0.75, n_estimators=60; total time=   0.3s\n",
      "[CV] END max_depth=8, max_features=0.2, max_samples=0.75, n_estimators=60; total time=   0.3s\n",
      "[CV] END max_depth=8, max_features=0.2, max_samples=0.75, n_estimators=100; total time=   0.5s\n",
      "[CV] END max_depth=8, max_features=0.2, max_samples=0.75, n_estimators=100; total time=   0.5s\n",
      "[CV] END max_depth=8, max_features=0.2, max_samples=0.75, n_estimators=100; total time=   0.5s\n",
      "[CV] END max_depth=8, max_features=0.2, max_samples=0.75, n_estimators=120; total time=   0.6s\n",
      "[CV] END max_depth=8, max_features=0.2, max_samples=0.75, n_estimators=120; total time=   0.6s\n",
      "[CV] END max_depth=8, max_features=0.2, max_samples=1.0, n_estimators=20; total time=   0.1s\n",
      "[CV] END max_depth=8, max_features=0.2, max_samples=1.0, n_estimators=20; total time=   0.1s\n",
      "[CV] END max_depth=8, max_features=0.2, max_samples=1.0, n_estimators=20; total time=   0.1s\n",
      "[CV] END max_depth=8, max_features=0.2, max_samples=1.0, n_estimators=20; total time=   0.1s\n",
      "[CV] END max_depth=8, max_features=0.2, max_samples=1.0, n_estimators=60; total time=   0.5s\n",
      "[CV] END max_depth=8, max_features=0.2, max_samples=1.0, n_estimators=60; total time=   0.3s\n",
      "[CV] END max_depth=8, max_features=0.2, max_samples=1.0, n_estimators=60; total time=   0.3s\n",
      "[CV] END max_depth=8, max_features=0.2, max_samples=1.0, n_estimators=100; total time=   0.6s\n",
      "[CV] END max_depth=8, max_features=0.2, max_samples=1.0, n_estimators=100; total time=   0.6s\n",
      "[CV] END max_depth=8, max_features=0.2, max_samples=1.0, n_estimators=120; total time=   0.7s\n",
      "[CV] END max_depth=8, max_features=0.2, max_samples=1.0, n_estimators=120; total time=   0.7s\n",
      "[CV] END max_depth=8, max_features=0.2, max_samples=1.0, n_estimators=120; total time=   0.7s\n",
      "[CV] END max_depth=8, max_features=0.6, max_samples=0.5, n_estimators=20; total time=   0.1s\n",
      "[CV] END max_depth=8, max_features=0.6, max_samples=0.5, n_estimators=60; total time=   0.4s\n",
      "[CV] END max_depth=8, max_features=0.6, max_samples=0.5, n_estimators=60; total time=   0.4s\n",
      "[CV] END max_depth=8, max_features=0.6, max_samples=0.5, n_estimators=60; total time=   0.4s\n",
      "[CV] END max_depth=8, max_features=0.6, max_samples=0.5, n_estimators=100; total time=   0.6s\n",
      "[CV] END max_depth=8, max_features=0.6, max_samples=0.5, n_estimators=100; total time=   0.6s\n",
      "[CV] END max_depth=8, max_features=0.6, max_samples=0.5, n_estimators=120; total time=   0.8s\n",
      "[CV] END max_depth=8, max_features=0.6, max_samples=0.5, n_estimators=120; total time=   0.7s\n",
      "[CV] END max_depth=8, max_features=0.6, max_samples=0.5, n_estimators=120; total time=   0.7s\n",
      "[CV] END max_depth=8, max_features=0.6, max_samples=0.75, n_estimators=20; total time=   0.2s\n",
      "[CV] END max_depth=8, max_features=0.6, max_samples=0.75, n_estimators=60; total time=   0.4s\n",
      "[CV] END max_depth=8, max_features=0.6, max_samples=0.75, n_estimators=60; total time=   0.4s\n",
      "[CV] END max_depth=8, max_features=0.6, max_samples=0.75, n_estimators=60; total time=   0.6s\n",
      "[CV] END max_depth=8, max_features=0.6, max_samples=0.75, n_estimators=100; total time=   1.6s\n",
      "[CV] END max_depth=8, max_features=0.6, max_samples=0.75, n_estimators=100; total time=   2.1s\n",
      "[CV] END max_depth=8, max_features=0.6, max_samples=0.75, n_estimators=120; total time=   1.3s\n",
      "[CV] END max_depth=8, max_features=0.6, max_samples=0.75, n_estimators=120; total time=   1.8s\n",
      "[CV] END max_depth=8, max_features=0.6, max_samples=0.75, n_estimators=120; total time=   1.0s\n",
      "[CV] END max_depth=8, max_features=0.6, max_samples=1.0, n_estimators=20; total time=   0.2s\n",
      "[CV] END max_depth=8, max_features=0.6, max_samples=1.0, n_estimators=60; total time=   0.7s\n",
      "[CV] END max_depth=8, max_features=0.6, max_samples=1.0, n_estimators=60; total time=   0.5s\n",
      "[CV] END max_depth=8, max_features=0.6, max_samples=1.0, n_estimators=60; total time=   0.6s\n",
      "[CV] END max_depth=8, max_features=0.6, max_samples=1.0, n_estimators=100; total time=   0.9s\n",
      "[CV] END max_depth=8, max_features=0.6, max_samples=1.0, n_estimators=100; total time=   1.6s\n",
      "[CV] END max_depth=8, max_features=0.6, max_samples=1.0, n_estimators=120; total time=   1.5s\n",
      "[CV] END max_depth=8, max_features=0.6, max_samples=1.0, n_estimators=120; total time=   2.3s\n",
      "[CV] END max_depth=8, max_features=0.6, max_samples=1.0, n_estimators=120; total time=   1.5s\n",
      "[CV] END max_depth=8, max_features=1.0, max_samples=0.5, n_estimators=60; total time=   0.8s\n",
      "[CV] END max_depth=8, max_features=1.0, max_samples=0.5, n_estimators=60; total time=   0.7s\n",
      "[CV] END max_depth=8, max_features=1.0, max_samples=0.5, n_estimators=100; total time=   1.0s\n",
      "[CV] END max_depth=8, max_features=1.0, max_samples=0.5, n_estimators=100; total time=   1.0s\n",
      "[CV] END max_depth=8, max_features=1.0, max_samples=0.5, n_estimators=100; total time=   1.1s\n",
      "[CV] END max_depth=8, max_features=1.0, max_samples=0.5, n_estimators=120; total time=   1.1s\n",
      "[CV] END max_depth=8, max_features=1.0, max_samples=0.5, n_estimators=120; total time=   1.1s\n",
      "[CV] END max_depth=8, max_features=1.0, max_samples=0.75, n_estimators=20; total time=   0.2s\n",
      "[CV] END max_depth=8, max_features=1.0, max_samples=0.75, n_estimators=20; total time=   0.2s\n",
      "[CV] END max_depth=8, max_features=1.0, max_samples=0.75, n_estimators=20; total time=   0.4s\n",
      "[CV] END max_depth=8, max_features=1.0, max_samples=0.75, n_estimators=20; total time=   0.2s\n",
      "[CV] END max_depth=8, max_features=1.0, max_samples=0.75, n_estimators=60; total time=   0.7s\n",
      "[CV] END max_depth=8, max_features=1.0, max_samples=0.75, n_estimators=60; total time=   1.2s\n",
      "[CV] END max_depth=8, max_features=1.0, max_samples=0.75, n_estimators=60; total time=   0.6s\n",
      "[CV] END max_depth=8, max_features=1.0, max_samples=0.75, n_estimators=100; total time=   1.2s\n",
      "[CV] END max_depth=8, max_features=1.0, max_samples=0.75, n_estimators=100; total time=   1.3s\n",
      "[CV] END max_depth=8, max_features=1.0, max_samples=0.75, n_estimators=120; total time=   1.6s\n",
      "[CV] END max_depth=8, max_features=1.0, max_samples=0.75, n_estimators=120; total time=   1.5s\n",
      "[CV] END max_depth=8, max_features=1.0, max_samples=0.75, n_estimators=120; total time=   1.6s\n",
      "[CV] END max_depth=8, max_features=1.0, max_samples=1.0, n_estimators=20; total time=   0.2s\n",
      "[CV] END max_depth=8, max_features=1.0, max_samples=1.0, n_estimators=60; total time=   1.4s\n",
      "[CV] END max_depth=8, max_features=1.0, max_samples=1.0, n_estimators=60; total time=   1.1s\n",
      "[CV] END max_depth=8, max_features=1.0, max_samples=1.0, n_estimators=100; total time=   2.0s\n",
      "[CV] END max_depth=8, max_features=1.0, max_samples=1.0, n_estimators=100; total time=   2.0s\n",
      "[CV] END max_depth=8, max_features=1.0, max_samples=1.0, n_estimators=100; total time=   1.6s\n",
      "[CV] END max_depth=8, max_features=1.0, max_samples=1.0, n_estimators=120; total time=   2.6s\n",
      "[CV] END max_depth=8, max_features=1.0, max_samples=1.0, n_estimators=120; total time=   2.7s\n",
      "[CV] END max_depth=None, max_features=0.2, max_samples=0.5, n_estimators=20; total time=   0.2s\n",
      "[CV] END max_depth=None, max_features=0.2, max_samples=0.5, n_estimators=20; total time=   0.2s\n",
      "[CV] END max_depth=None, max_features=0.2, max_samples=0.5, n_estimators=20; total time=   0.3s\n",
      "[CV] END max_depth=None, max_features=0.2, max_samples=0.5, n_estimators=20; total time=   0.1s\n",
      "[CV] END max_depth=None, max_features=0.2, max_samples=0.5, n_estimators=20; total time=   0.2s\n",
      "[CV] END max_depth=None, max_features=0.2, max_samples=0.5, n_estimators=60; total time=   0.5s\n",
      "[CV] END max_depth=8, max_features=1.0, max_samples=0.75, n_estimators=60; total time=   1.1s\n",
      "[CV] END max_depth=8, max_features=1.0, max_samples=0.75, n_estimators=100; total time=   1.0s\n",
      "[CV] END max_depth=8, max_features=1.0, max_samples=0.75, n_estimators=100; total time=   1.4s\n",
      "[CV] END max_depth=8, max_features=1.0, max_samples=0.75, n_estimators=100; total time=   1.4s\n",
      "[CV] END max_depth=8, max_features=1.0, max_samples=0.75, n_estimators=120; total time=   1.6s\n",
      "[CV] END max_depth=8, max_features=1.0, max_samples=0.75, n_estimators=120; total time=   1.3s\n",
      "[CV] END max_depth=8, max_features=1.0, max_samples=1.0, n_estimators=20; total time=   0.2s\n",
      "[CV] END max_depth=8, max_features=1.0, max_samples=1.0, n_estimators=20; total time=   0.2s\n",
      "[CV] END max_depth=8, max_features=1.0, max_samples=1.0, n_estimators=20; total time=   0.5s\n",
      "[CV] END max_depth=8, max_features=1.0, max_samples=1.0, n_estimators=20; total time=   0.3s\n",
      "[CV] END max_depth=8, max_features=1.0, max_samples=1.0, n_estimators=60; total time=   1.1s\n",
      "[CV] END max_depth=8, max_features=1.0, max_samples=1.0, n_estimators=60; total time=   1.2s\n",
      "[CV] END max_depth=8, max_features=1.0, max_samples=1.0, n_estimators=60; total time=   1.1s\n",
      "[CV] END max_depth=8, max_features=1.0, max_samples=1.0, n_estimators=100; total time=   2.3s\n",
      "[CV] END max_depth=8, max_features=1.0, max_samples=1.0, n_estimators=100; total time=   1.3s\n",
      "[CV] END max_depth=8, max_features=1.0, max_samples=1.0, n_estimators=120; total time=   2.3s\n",
      "[CV] END max_depth=8, max_features=1.0, max_samples=1.0, n_estimators=120; total time=   2.6s\n",
      "[CV] END max_depth=8, max_features=1.0, max_samples=1.0, n_estimators=120; total time=   2.6s\n",
      "[CV] END max_depth=None, max_features=0.2, max_samples=0.5, n_estimators=60; total time=   0.4s\n",
      "[CV] END max_depth=None, max_features=0.2, max_samples=0.5, n_estimators=60; total time=   0.4s\n",
      "[CV] END max_depth=None, max_features=0.2, max_samples=0.5, n_estimators=100; total time=   1.1s\n",
      "[CV] END max_depth=None, max_features=0.2, max_samples=0.5, n_estimators=100; total time=   0.9s\n",
      "[CV] END max_depth=None, max_features=0.2, max_samples=0.5, n_estimators=100; total time=   0.9s\n",
      "[CV] END max_depth=None, max_features=0.2, max_samples=0.5, n_estimators=120; total time=   0.9s\n",
      "[CV] END max_depth=None, max_features=0.2, max_samples=0.5, n_estimators=120; total time=   0.6s\n",
      "[CV] END max_depth=None, max_features=0.2, max_samples=0.75, n_estimators=20; total time=   0.1s\n",
      "[CV] END max_depth=None, max_features=0.2, max_samples=0.75, n_estimators=20; total time=   0.1s\n",
      "[CV] END max_depth=None, max_features=0.2, max_samples=0.75, n_estimators=20; total time=   0.1s\n",
      "[CV] END max_depth=None, max_features=0.2, max_samples=0.75, n_estimators=20; total time=   0.1s\n",
      "[CV] END max_depth=None, max_features=0.2, max_samples=0.75, n_estimators=60; total time=   0.5s\n",
      "[CV] END max_depth=None, max_features=0.2, max_samples=0.75, n_estimators=60; total time=   0.7s\n",
      "[CV] END max_depth=None, max_features=0.2, max_samples=0.75, n_estimators=60; total time=   0.4s\n",
      "[CV] END max_depth=None, max_features=0.2, max_samples=0.75, n_estimators=100; total time=   0.7s\n",
      "[CV] END max_depth=None, max_features=0.2, max_samples=0.75, n_estimators=100; total time=   0.7s\n",
      "[CV] END max_depth=None, max_features=0.2, max_samples=0.75, n_estimators=120; total time=   0.9s\n",
      "[CV] END max_depth=None, max_features=0.2, max_samples=0.75, n_estimators=120; total time=   1.1s\n",
      "[CV] END max_depth=None, max_features=0.2, max_samples=0.75, n_estimators=120; total time=   0.9s\n",
      "[CV] END max_depth=None, max_features=0.2, max_samples=1.0, n_estimators=20; total time=   0.1s\n",
      "[CV] END max_depth=None, max_features=0.2, max_samples=1.0, n_estimators=60; total time=   0.7s\n",
      "[CV] END max_depth=None, max_features=0.2, max_samples=1.0, n_estimators=60; total time=   0.4s\n",
      "[CV] END max_depth=None, max_features=0.2, max_samples=1.0, n_estimators=100; total time=   0.6s\n",
      "[CV] END max_depth=None, max_features=0.2, max_samples=1.0, n_estimators=100; total time=   0.8s\n",
      "[CV] END max_depth=None, max_features=0.2, max_samples=1.0, n_estimators=100; total time=   0.7s\n",
      "[CV] END max_depth=None, max_features=0.2, max_samples=1.0, n_estimators=120; total time=   0.7s\n",
      "[CV] END max_depth=None, max_features=0.2, max_samples=1.0, n_estimators=120; total time=   1.4s\n",
      "[CV] END max_depth=None, max_features=0.6, max_samples=0.5, n_estimators=20; total time=   0.1s\n",
      "[CV] END max_depth=None, max_features=0.6, max_samples=0.5, n_estimators=20; total time=   0.1s\n",
      "[CV] END max_depth=None, max_features=0.6, max_samples=0.5, n_estimators=20; total time=   0.1s\n",
      "[CV] END max_depth=None, max_features=0.6, max_samples=0.5, n_estimators=20; total time=   0.2s\n",
      "[CV] END max_depth=None, max_features=0.6, max_samples=0.5, n_estimators=60; total time=   0.6s\n",
      "[CV] END max_depth=None, max_features=0.6, max_samples=0.5, n_estimators=60; total time=   0.4s\n",
      "[CV] END max_depth=None, max_features=0.6, max_samples=0.5, n_estimators=100; total time=   0.7s\n",
      "[CV] END max_depth=None, max_features=0.6, max_samples=0.5, n_estimators=100; total time=   1.2s\n",
      "[CV] END max_depth=None, max_features=0.6, max_samples=0.5, n_estimators=100; total time=   1.2s\n",
      "[CV] END max_depth=None, max_features=0.6, max_samples=0.5, n_estimators=120; total time=   0.9s\n",
      "[CV] END max_depth=None, max_features=0.6, max_samples=0.5, n_estimators=120; total time=   0.8s\n",
      "[CV] END max_depth=None, max_features=0.6, max_samples=0.75, n_estimators=20; total time=   0.2s\n",
      "[CV] END max_depth=None, max_features=0.6, max_samples=0.75, n_estimators=20; total time=   0.2s\n",
      "[CV] END max_depth=None, max_features=0.6, max_samples=0.75, n_estimators=20; total time=   0.4s\n",
      "[CV] END max_depth=None, max_features=0.6, max_samples=0.75, n_estimators=20; total time=   0.3s\n",
      "[CV] END max_depth=None, max_features=0.6, max_samples=0.75, n_estimators=20; total time=   0.4s\n",
      "[CV] END max_depth=None, max_features=0.6, max_samples=0.75, n_estimators=60; total time=   0.9s\n",
      "[CV] END max_depth=None, max_features=0.6, max_samples=0.75, n_estimators=60; total time=   0.6s\n",
      "[CV] END max_depth=None, max_features=0.6, max_samples=0.75, n_estimators=100; total time=   1.2s\n",
      "[CV] END max_depth=None, max_features=0.6, max_samples=0.75, n_estimators=100; total time=   1.1s\n",
      "[CV] END max_depth=None, max_features=0.6, max_samples=0.75, n_estimators=100; total time=   0.9s\n",
      "[CV] END max_depth=None, max_features=0.6, max_samples=0.75, n_estimators=120; total time=   1.2s\n",
      "[CV] END max_depth=None, max_features=0.6, max_samples=0.75, n_estimators=120; total time=   1.5s\n",
      "[CV] END max_depth=None, max_features=0.6, max_samples=1.0, n_estimators=20; total time=   0.3s\n",
      "[CV] END max_depth=None, max_features=0.6, max_samples=1.0, n_estimators=20; total time=   0.2s\n",
      "[CV] END max_depth=None, max_features=0.6, max_samples=1.0, n_estimators=20; total time=   0.3s\n",
      "[CV] END max_depth=None, max_features=0.6, max_samples=1.0, n_estimators=60; total time=   0.8s\n",
      "[CV] END max_depth=None, max_features=0.6, max_samples=1.0, n_estimators=60; total time=   1.2s\n",
      "[CV] END max_depth=None, max_features=0.6, max_samples=1.0, n_estimators=60; total time=   0.9s\n",
      "[CV] END max_depth=None, max_features=0.6, max_samples=1.0, n_estimators=100; total time=   1.9s\n",
      "[CV] END max_depth=None, max_features=0.6, max_samples=1.0, n_estimators=100; total time=   1.9s\n",
      "[CV] END max_depth=None, max_features=0.6, max_samples=1.0, n_estimators=120; total time=   1.5s\n",
      "[CV] END max_depth=None, max_features=0.6, max_samples=1.0, n_estimators=120; total time=   1.4s\n",
      "[CV] END max_depth=None, max_features=0.6, max_samples=1.0, n_estimators=120; total time=   1.6s\n",
      "[CV] END max_depth=None, max_features=1.0, max_samples=0.5, n_estimators=20; total time=   0.2s\n",
      "[CV] END max_depth=None, max_features=1.0, max_samples=0.5, n_estimators=60; total time=   0.5s\n",
      "[CV] END max_depth=None, max_features=1.0, max_samples=0.5, n_estimators=60; total time=   0.4s\n",
      "[CV] END max_depth=None, max_features=1.0, max_samples=0.5, n_estimators=100; total time=   0.7s\n",
      "[CV] END max_depth=None, max_features=1.0, max_samples=0.5, n_estimators=100; total time=   0.9s\n",
      "[CV] END max_depth=None, max_features=1.0, max_samples=0.5, n_estimators=100; total time=   1.2s\n"
     ]
    },
    {
     "data": {
      "text/html": [
       "<style>#sk-container-id-1 {color: black;background-color: white;}#sk-container-id-1 pre{padding: 0;}#sk-container-id-1 div.sk-toggleable {background-color: white;}#sk-container-id-1 label.sk-toggleable__label {cursor: pointer;display: block;width: 100%;margin-bottom: 0;padding: 0.3em;box-sizing: border-box;text-align: center;}#sk-container-id-1 label.sk-toggleable__label-arrow:before {content: \"▸\";float: left;margin-right: 0.25em;color: #696969;}#sk-container-id-1 label.sk-toggleable__label-arrow:hover:before {color: black;}#sk-container-id-1 div.sk-estimator:hover label.sk-toggleable__label-arrow:before {color: black;}#sk-container-id-1 div.sk-toggleable__content {max-height: 0;max-width: 0;overflow: hidden;text-align: left;background-color: #f0f8ff;}#sk-container-id-1 div.sk-toggleable__content pre {margin: 0.2em;color: black;border-radius: 0.25em;background-color: #f0f8ff;}#sk-container-id-1 input.sk-toggleable__control:checked~div.sk-toggleable__content {max-height: 200px;max-width: 100%;overflow: auto;}#sk-container-id-1 input.sk-toggleable__control:checked~label.sk-toggleable__label-arrow:before {content: \"▾\";}#sk-container-id-1 div.sk-estimator input.sk-toggleable__control:checked~label.sk-toggleable__label {background-color: #d4ebff;}#sk-container-id-1 div.sk-label input.sk-toggleable__control:checked~label.sk-toggleable__label {background-color: #d4ebff;}#sk-container-id-1 input.sk-hidden--visually {border: 0;clip: rect(1px 1px 1px 1px);clip: rect(1px, 1px, 1px, 1px);height: 1px;margin: -1px;overflow: hidden;padding: 0;position: absolute;width: 1px;}#sk-container-id-1 div.sk-estimator {font-family: monospace;background-color: #f0f8ff;border: 1px dotted black;border-radius: 0.25em;box-sizing: border-box;margin-bottom: 0.5em;}#sk-container-id-1 div.sk-estimator:hover {background-color: #d4ebff;}#sk-container-id-1 div.sk-parallel-item::after {content: \"\";width: 100%;border-bottom: 1px solid gray;flex-grow: 1;}#sk-container-id-1 div.sk-label:hover label.sk-toggleable__label {background-color: #d4ebff;}#sk-container-id-1 div.sk-serial::before {content: \"\";position: absolute;border-left: 1px solid gray;box-sizing: border-box;top: 0;bottom: 0;left: 50%;z-index: 0;}#sk-container-id-1 div.sk-serial {display: flex;flex-direction: column;align-items: center;background-color: white;padding-right: 0.2em;padding-left: 0.2em;position: relative;}#sk-container-id-1 div.sk-item {position: relative;z-index: 1;}#sk-container-id-1 div.sk-parallel {display: flex;align-items: stretch;justify-content: center;background-color: white;position: relative;}#sk-container-id-1 div.sk-item::before, #sk-container-id-1 div.sk-parallel-item::before {content: \"\";position: absolute;border-left: 1px solid gray;box-sizing: border-box;top: 0;bottom: 0;left: 50%;z-index: -1;}#sk-container-id-1 div.sk-parallel-item {display: flex;flex-direction: column;z-index: 1;position: relative;background-color: white;}#sk-container-id-1 div.sk-parallel-item:first-child::after {align-self: flex-end;width: 50%;}#sk-container-id-1 div.sk-parallel-item:last-child::after {align-self: flex-start;width: 50%;}#sk-container-id-1 div.sk-parallel-item:only-child::after {width: 0;}#sk-container-id-1 div.sk-dashed-wrapped {border: 1px dashed gray;margin: 0 0.4em 0.5em 0.4em;box-sizing: border-box;padding-bottom: 0.4em;background-color: white;}#sk-container-id-1 div.sk-label label {font-family: monospace;font-weight: bold;display: inline-block;line-height: 1.2em;}#sk-container-id-1 div.sk-label-container {text-align: center;}#sk-container-id-1 div.sk-container {/* jupyter's `normalize.less` sets `[hidden] { display: none; }` but bootstrap.min.css set `[hidden] { display: none !important; }` so we also need the `!important` here to be able to override the default hidden behavior on the sphinx rendered scikit-learn.org. See: https://github.com/scikit-learn/scikit-learn/issues/21755 */display: inline-block !important;position: relative;}#sk-container-id-1 div.sk-text-repr-fallback {display: none;}</style><div id=\"sk-container-id-1\" class=\"sk-top-container\"><div class=\"sk-text-repr-fallback\"><pre>GridSearchCV(cv=5, estimator=RandomForestClassifier(), n_jobs=-1,\n",
       "             param_grid={&#x27;max_depth&#x27;: [2, 8, None],\n",
       "                         &#x27;max_features&#x27;: [0.2, 0.6, 1.0],\n",
       "                         &#x27;max_samples&#x27;: [0.5, 0.75, 1.0],\n",
       "                         &#x27;n_estimators&#x27;: [20, 60, 100, 120]},\n",
       "             verbose=2)</pre><b>In a Jupyter environment, please rerun this cell to show the HTML representation or trust the notebook. <br />On GitHub, the HTML representation is unable to render, please try loading this page with nbviewer.org.</b></div><div class=\"sk-container\" hidden><div class=\"sk-item sk-dashed-wrapped\"><div class=\"sk-label-container\"><div class=\"sk-label sk-toggleable\"><input class=\"sk-toggleable__control sk-hidden--visually\" id=\"sk-estimator-id-1\" type=\"checkbox\" ><label for=\"sk-estimator-id-1\" class=\"sk-toggleable__label sk-toggleable__label-arrow\">GridSearchCV</label><div class=\"sk-toggleable__content\"><pre>GridSearchCV(cv=5, estimator=RandomForestClassifier(), n_jobs=-1,\n",
       "             param_grid={&#x27;max_depth&#x27;: [2, 8, None],\n",
       "                         &#x27;max_features&#x27;: [0.2, 0.6, 1.0],\n",
       "                         &#x27;max_samples&#x27;: [0.5, 0.75, 1.0],\n",
       "                         &#x27;n_estimators&#x27;: [20, 60, 100, 120]},\n",
       "             verbose=2)</pre></div></div></div><div class=\"sk-parallel\"><div class=\"sk-parallel-item\"><div class=\"sk-item\"><div class=\"sk-label-container\"><div class=\"sk-label sk-toggleable\"><input class=\"sk-toggleable__control sk-hidden--visually\" id=\"sk-estimator-id-2\" type=\"checkbox\" ><label for=\"sk-estimator-id-2\" class=\"sk-toggleable__label sk-toggleable__label-arrow\">estimator: RandomForestClassifier</label><div class=\"sk-toggleable__content\"><pre>RandomForestClassifier()</pre></div></div></div><div class=\"sk-serial\"><div class=\"sk-item\"><div class=\"sk-estimator sk-toggleable\"><input class=\"sk-toggleable__control sk-hidden--visually\" id=\"sk-estimator-id-3\" type=\"checkbox\" ><label for=\"sk-estimator-id-3\" class=\"sk-toggleable__label sk-toggleable__label-arrow\">RandomForestClassifier</label><div class=\"sk-toggleable__content\"><pre>RandomForestClassifier()</pre></div></div></div></div></div></div></div></div></div></div>"
      ],
      "text/plain": [
       "GridSearchCV(cv=5, estimator=RandomForestClassifier(), n_jobs=-1,\n",
       "             param_grid={'max_depth': [2, 8, None],\n",
       "                         'max_features': [0.2, 0.6, 1.0],\n",
       "                         'max_samples': [0.5, 0.75, 1.0],\n",
       "                         'n_estimators': [20, 60, 100, 120]},\n",
       "             verbose=2)"
      ]
     },
     "execution_count": 20,
     "metadata": {},
     "output_type": "execute_result"
    }
   ],
   "source": [
    "rf_grid.fit(xtrain,ytrain)"
   ]
  },
  {
   "cell_type": "code",
   "execution_count": 21,
   "id": "c8d4c74a",
   "metadata": {},
   "outputs": [
    {
     "data": {
      "text/plain": [
       "{'max_depth': 8, 'max_features': 1.0, 'max_samples': 0.75, 'n_estimators': 60}"
      ]
     },
     "execution_count": 21,
     "metadata": {},
     "output_type": "execute_result"
    }
   ],
   "source": [
    "rf_grid.best_params_"
   ]
  },
  {
   "cell_type": "code",
   "execution_count": 22,
   "id": "9e7241a3",
   "metadata": {},
   "outputs": [],
   "source": [
    "n_estimators = [20 ,60 ,100 ,120]\n",
    "max_features = [0.2 ,0.6 ,1.0]\n",
    "max_depths = [2 ,8 ,None]\n",
    "max_samples =[0.5 ,0.75 ,1]\n",
    "bootstrap = [True ,False]\n",
    "min_samples_split =[2 ,5]\n",
    "min_samples_leaf =[1 ,2]"
   ]
  },
  {
   "cell_type": "code",
   "execution_count": 24,
   "id": "0a9ed39d",
   "metadata": {},
   "outputs": [],
   "source": [
    "para_grid= {\n",
    "    'n_estimators':n_estimators,\n",
    "              'max_features' : max_features,\n",
    "              'max_depth' : max_depth,\n",
    "              'max_samples' : max_samples,\n",
    "              'bootstrap' : bootstrap,\n",
    "              'min_samples_split' : min_samples_split,\n",
    "              'min_samples_leaf' : min_samples_leaf\n",
    "}"
   ]
  },
  {
   "cell_type": "code",
   "execution_count": 25,
   "id": "19334c4e",
   "metadata": {},
   "outputs": [],
   "source": [
    "rs =RandomizedSearchCV(estimator=rf ,param_distributions=para_grid,cv=5 ,verbose=2,n_jobs=-1)"
   ]
  },
  {
   "cell_type": "code",
   "execution_count": 27,
   "id": "556ee5ff",
   "metadata": {},
   "outputs": [
    {
     "name": "stdout",
     "output_type": "stream",
     "text": [
      "Fitting 5 folds for each of 10 candidates, totalling 50 fits\n",
      "[CV] END bootstrap=False, max_depth=2, max_features=0.2, max_samples=1, min_samples_leaf=2, min_samples_split=2, n_estimators=100; total time=   0.0s\n",
      "[CV] END bootstrap=False, max_depth=2, max_features=0.2, max_samples=1, min_samples_leaf=2, min_samples_split=2, n_estimators=100; total time=   0.0s\n",
      "[CV] END bootstrap=False, max_depth=2, max_features=0.2, max_samples=1, min_samples_leaf=2, min_samples_split=2, n_estimators=100; total time=   0.0s\n",
      "[CV] END bootstrap=False, max_depth=None, max_features=0.6, max_samples=0.75, min_samples_leaf=2, min_samples_split=5, n_estimators=60; total time=   0.0s\n",
      "[CV] END bootstrap=False, max_depth=None, max_features=0.6, max_samples=0.75, min_samples_leaf=2, min_samples_split=5, n_estimators=60; total time=   0.0s\n",
      "[CV] END bootstrap=True, max_depth=8, max_features=0.6, max_samples=0.5, min_samples_leaf=1, min_samples_split=5, n_estimators=100; total time=   1.0s\n",
      "[CV] END bootstrap=True, max_depth=8, max_features=0.6, max_samples=0.5, min_samples_leaf=1, min_samples_split=5, n_estimators=100; total time=   1.0s\n",
      "[CV] END bootstrap=True, max_depth=8, max_features=0.6, max_samples=0.5, min_samples_leaf=1, min_samples_split=5, n_estimators=100; total time=   0.8s\n",
      "[CV] END bootstrap=True, max_depth=None, max_features=0.2, max_samples=0.5, min_samples_leaf=1, min_samples_split=5, n_estimators=60; total time=   0.7s\n",
      "[CV] END bootstrap=True, max_depth=None, max_features=0.2, max_samples=0.5, min_samples_leaf=1, min_samples_split=5, n_estimators=60; total time=   0.7s\n",
      "[CV] END bootstrap=True, max_depth=None, max_features=0.6, max_samples=1, min_samples_leaf=2, min_samples_split=2, n_estimators=120; total time=   0.6s\n",
      "[CV] END bootstrap=True, max_depth=None, max_features=0.6, max_samples=1, min_samples_leaf=2, min_samples_split=2, n_estimators=120; total time=   1.0s\n",
      "[CV] END bootstrap=True, max_depth=2, max_features=1.0, max_samples=0.5, min_samples_leaf=1, min_samples_split=2, n_estimators=120; total time=   1.4s\n",
      "[CV] END bootstrap=True, max_depth=2, max_features=1.0, max_samples=0.5, min_samples_leaf=1, min_samples_split=2, n_estimators=120; total time=   0.8s\n",
      "[CV] END bootstrap=True, max_depth=2, max_features=1.0, max_samples=0.5, min_samples_leaf=1, min_samples_split=2, n_estimators=120; total time=   0.7s\n",
      "[CV] END bootstrap=True, max_depth=2, max_features=0.2, max_samples=0.75, min_samples_leaf=2, min_samples_split=5, n_estimators=120; total time=   0.6s\n",
      "[CV] END bootstrap=True, max_depth=2, max_features=0.2, max_samples=0.75, min_samples_leaf=2, min_samples_split=5, n_estimators=120; total time=   0.5s\n",
      "[CV] END bootstrap=False, max_depth=None, max_features=1.0, max_samples=0.5, min_samples_leaf=1, min_samples_split=5, n_estimators=100; total time=   0.0s\n",
      "[CV] END bootstrap=False, max_depth=None, max_features=1.0, max_samples=0.5, min_samples_leaf=1, min_samples_split=5, n_estimators=100; total time=   0.0s\n",
      "[CV] END bootstrap=False, max_depth=None, max_features=1.0, max_samples=0.5, min_samples_leaf=1, min_samples_split=5, n_estimators=100; total time=   0.0s\n",
      "[CV] END bootstrap=False, max_depth=None, max_features=1.0, max_samples=0.5, min_samples_leaf=1, min_samples_split=5, n_estimators=100; total time=   0.0s\n",
      "[CV] END bootstrap=False, max_depth=None, max_features=1.0, max_samples=0.5, min_samples_leaf=1, min_samples_split=5, n_estimators=100; total time=   0.0s\n",
      "[CV] END bootstrap=False, max_depth=None, max_features=0.2, max_samples=0.75, min_samples_leaf=2, min_samples_split=2, n_estimators=60; total time=   0.0s\n",
      "[CV] END bootstrap=False, max_depth=None, max_features=0.2, max_samples=0.75, min_samples_leaf=2, min_samples_split=2, n_estimators=60; total time=   0.0s\n",
      "[CV] END bootstrap=False, max_depth=None, max_features=0.2, max_samples=0.75, min_samples_leaf=2, min_samples_split=2, n_estimators=60; total time=   0.0s\n",
      "[CV] END bootstrap=False, max_depth=None, max_features=0.2, max_samples=0.75, min_samples_leaf=2, min_samples_split=2, n_estimators=60; total time=   0.0s\n",
      "[CV] END bootstrap=False, max_depth=None, max_features=0.2, max_samples=0.75, min_samples_leaf=2, min_samples_split=2, n_estimators=60; total time=   0.0s\n",
      "[CV] END bootstrap=False, max_depth=None, max_features=0.2, max_samples=0.75, min_samples_leaf=1, min_samples_split=2, n_estimators=20; total time=   0.0s\n",
      "[CV] END bootstrap=False, max_depth=None, max_features=0.2, max_samples=0.75, min_samples_leaf=1, min_samples_split=2, n_estimators=20; total time=   0.0s\n",
      "[CV] END bootstrap=False, max_depth=None, max_features=0.2, max_samples=0.75, min_samples_leaf=1, min_samples_split=2, n_estimators=20; total time=   0.0s\n",
      "[CV] END bootstrap=False, max_depth=2, max_features=0.2, max_samples=0.5, min_samples_leaf=2, min_samples_split=5, n_estimators=100; total time=   0.0s\n",
      "[CV] END bootstrap=False, max_depth=2, max_features=0.2, max_samples=0.5, min_samples_leaf=2, min_samples_split=5, n_estimators=100; total time=   0.0s\n",
      "[CV] END bootstrap=False, max_depth=None, max_features=1.0, max_samples=0.75, min_samples_leaf=1, min_samples_split=5, n_estimators=60; total time=   0.0s\n",
      "[CV] END bootstrap=False, max_depth=None, max_features=1.0, max_samples=0.75, min_samples_leaf=1, min_samples_split=5, n_estimators=60; total time=   0.0s\n",
      "[CV] END bootstrap=False, max_depth=None, max_features=1.0, max_samples=0.75, min_samples_leaf=1, min_samples_split=5, n_estimators=60; total time=   0.0s\n",
      "[CV] END bootstrap=True, max_depth=2, max_features=0.6, max_samples=0.75, min_samples_leaf=1, min_samples_split=2, n_estimators=60; total time=   0.4s\n",
      "[CV] END bootstrap=False, max_depth=8, max_features=0.6, max_samples=0.75, min_samples_leaf=1, min_samples_split=2, n_estimators=20; total time=   0.0s\n",
      "[CV] END bootstrap=False, max_depth=8, max_features=0.6, max_samples=0.75, min_samples_leaf=1, min_samples_split=2, n_estimators=20; total time=   0.0s\n",
      "[CV] END bootstrap=False, max_depth=8, max_features=0.6, max_samples=0.75, min_samples_leaf=1, min_samples_split=2, n_estimators=20; total time=   0.0s\n",
      "[CV] END bootstrap=False, max_depth=8, max_features=0.6, max_samples=0.75, min_samples_leaf=1, min_samples_split=2, n_estimators=20; total time=   0.0s\n",
      "[CV] END bootstrap=False, max_depth=8, max_features=0.6, max_samples=0.75, min_samples_leaf=1, min_samples_split=2, n_estimators=20; total time=   0.0s\n",
      "[CV] END bootstrap=False, max_depth=None, max_features=0.6, max_samples=0.75, min_samples_leaf=2, min_samples_split=2, n_estimators=120; total time=   0.0s\n",
      "[CV] END bootstrap=False, max_depth=None, max_features=0.6, max_samples=0.75, min_samples_leaf=2, min_samples_split=2, n_estimators=120; total time=   0.0s\n",
      "[CV] END bootstrap=False, max_depth=None, max_features=0.6, max_samples=0.75, min_samples_leaf=2, min_samples_split=2, n_estimators=120; total time=   0.0s\n",
      "[CV] END bootstrap=False, max_depth=None, max_features=0.6, max_samples=0.75, min_samples_leaf=2, min_samples_split=2, n_estimators=120; total time=   0.0s\n",
      "[CV] END bootstrap=False, max_depth=None, max_features=0.6, max_samples=0.75, min_samples_leaf=2, min_samples_split=2, n_estimators=120; total time=   0.0s\n",
      "[CV] END bootstrap=True, max_depth=2, max_features=0.6, max_samples=1, min_samples_leaf=1, min_samples_split=2, n_estimators=20; total time=   0.1s\n",
      "[CV] END bootstrap=True, max_depth=2, max_features=0.6, max_samples=1, min_samples_leaf=1, min_samples_split=2, n_estimators=20; total time=   0.1s\n",
      "[CV] END bootstrap=True, max_depth=2, max_features=0.6, max_samples=1, min_samples_leaf=1, min_samples_split=2, n_estimators=20; total time=   0.1s\n",
      "[CV] END bootstrap=True, max_depth=2, max_features=0.6, max_samples=1, min_samples_leaf=1, min_samples_split=2, n_estimators=20; total time=   0.1s\n",
      "[CV] END bootstrap=True, max_depth=2, max_features=0.6, max_samples=1, min_samples_leaf=1, min_samples_split=2, n_estimators=20; total time=   0.1s\n",
      "[CV] END bootstrap=True, max_depth=2, max_features=0.2, max_samples=0.5, min_samples_leaf=2, min_samples_split=2, n_estimators=20; total time=   0.1s\n",
      "[CV] END bootstrap=True, max_depth=2, max_features=0.2, max_samples=0.5, min_samples_leaf=2, min_samples_split=2, n_estimators=20; total time=   0.1s\n"
     ]
    },
    {
     "name": "stderr",
     "output_type": "stream",
     "text": [
      "/home/f5/.local/lib/python3.10/site-packages/sklearn/model_selection/_validation.py:378: FitFailedWarning: \n",
      "30 fits failed out of a total of 50.\n",
      "The score on these train-test partitions for these parameters will be set to nan.\n",
      "If these failures are not expected, you can try to debug them by setting error_score='raise'.\n",
      "\n",
      "Below are more details about the failures:\n",
      "--------------------------------------------------------------------------------\n",
      "30 fits failed with the following error:\n",
      "Traceback (most recent call last):\n",
      "  File \"/home/f5/.local/lib/python3.10/site-packages/sklearn/model_selection/_validation.py\", line 686, in _fit_and_score\n",
      "    estimator.fit(X_train, y_train, **fit_params)\n",
      "  File \"/home/f5/.local/lib/python3.10/site-packages/sklearn/ensemble/_forest.py\", line 383, in fit\n",
      "    raise ValueError(\n",
      "ValueError: `max_sample` cannot be set if `bootstrap=False`. Either switch to `bootstrap=True` or set `max_sample=None`.\n",
      "\n",
      "  warnings.warn(some_fits_failed_message, FitFailedWarning)\n",
      "/home/f5/.local/lib/python3.10/site-packages/sklearn/model_selection/_search.py:953: UserWarning: One or more of the test scores are non-finite: [       nan        nan        nan 0.93406593        nan        nan\n",
      " 0.63296703 0.93626374 0.94725275        nan]\n",
      "  warnings.warn(\n"
     ]
    },
    {
     "data": {
      "text/html": [
       "<style>#sk-container-id-3 {color: black;background-color: white;}#sk-container-id-3 pre{padding: 0;}#sk-container-id-3 div.sk-toggleable {background-color: white;}#sk-container-id-3 label.sk-toggleable__label {cursor: pointer;display: block;width: 100%;margin-bottom: 0;padding: 0.3em;box-sizing: border-box;text-align: center;}#sk-container-id-3 label.sk-toggleable__label-arrow:before {content: \"▸\";float: left;margin-right: 0.25em;color: #696969;}#sk-container-id-3 label.sk-toggleable__label-arrow:hover:before {color: black;}#sk-container-id-3 div.sk-estimator:hover label.sk-toggleable__label-arrow:before {color: black;}#sk-container-id-3 div.sk-toggleable__content {max-height: 0;max-width: 0;overflow: hidden;text-align: left;background-color: #f0f8ff;}#sk-container-id-3 div.sk-toggleable__content pre {margin: 0.2em;color: black;border-radius: 0.25em;background-color: #f0f8ff;}#sk-container-id-3 input.sk-toggleable__control:checked~div.sk-toggleable__content {max-height: 200px;max-width: 100%;overflow: auto;}#sk-container-id-3 input.sk-toggleable__control:checked~label.sk-toggleable__label-arrow:before {content: \"▾\";}#sk-container-id-3 div.sk-estimator input.sk-toggleable__control:checked~label.sk-toggleable__label {background-color: #d4ebff;}#sk-container-id-3 div.sk-label input.sk-toggleable__control:checked~label.sk-toggleable__label {background-color: #d4ebff;}#sk-container-id-3 input.sk-hidden--visually {border: 0;clip: rect(1px 1px 1px 1px);clip: rect(1px, 1px, 1px, 1px);height: 1px;margin: -1px;overflow: hidden;padding: 0;position: absolute;width: 1px;}#sk-container-id-3 div.sk-estimator {font-family: monospace;background-color: #f0f8ff;border: 1px dotted black;border-radius: 0.25em;box-sizing: border-box;margin-bottom: 0.5em;}#sk-container-id-3 div.sk-estimator:hover {background-color: #d4ebff;}#sk-container-id-3 div.sk-parallel-item::after {content: \"\";width: 100%;border-bottom: 1px solid gray;flex-grow: 1;}#sk-container-id-3 div.sk-label:hover label.sk-toggleable__label {background-color: #d4ebff;}#sk-container-id-3 div.sk-serial::before {content: \"\";position: absolute;border-left: 1px solid gray;box-sizing: border-box;top: 0;bottom: 0;left: 50%;z-index: 0;}#sk-container-id-3 div.sk-serial {display: flex;flex-direction: column;align-items: center;background-color: white;padding-right: 0.2em;padding-left: 0.2em;position: relative;}#sk-container-id-3 div.sk-item {position: relative;z-index: 1;}#sk-container-id-3 div.sk-parallel {display: flex;align-items: stretch;justify-content: center;background-color: white;position: relative;}#sk-container-id-3 div.sk-item::before, #sk-container-id-3 div.sk-parallel-item::before {content: \"\";position: absolute;border-left: 1px solid gray;box-sizing: border-box;top: 0;bottom: 0;left: 50%;z-index: -1;}#sk-container-id-3 div.sk-parallel-item {display: flex;flex-direction: column;z-index: 1;position: relative;background-color: white;}#sk-container-id-3 div.sk-parallel-item:first-child::after {align-self: flex-end;width: 50%;}#sk-container-id-3 div.sk-parallel-item:last-child::after {align-self: flex-start;width: 50%;}#sk-container-id-3 div.sk-parallel-item:only-child::after {width: 0;}#sk-container-id-3 div.sk-dashed-wrapped {border: 1px dashed gray;margin: 0 0.4em 0.5em 0.4em;box-sizing: border-box;padding-bottom: 0.4em;background-color: white;}#sk-container-id-3 div.sk-label label {font-family: monospace;font-weight: bold;display: inline-block;line-height: 1.2em;}#sk-container-id-3 div.sk-label-container {text-align: center;}#sk-container-id-3 div.sk-container {/* jupyter's `normalize.less` sets `[hidden] { display: none; }` but bootstrap.min.css set `[hidden] { display: none !important; }` so we also need the `!important` here to be able to override the default hidden behavior on the sphinx rendered scikit-learn.org. See: https://github.com/scikit-learn/scikit-learn/issues/21755 */display: inline-block !important;position: relative;}#sk-container-id-3 div.sk-text-repr-fallback {display: none;}</style><div id=\"sk-container-id-3\" class=\"sk-top-container\"><div class=\"sk-text-repr-fallback\"><pre>RandomizedSearchCV(cv=5, estimator=RandomForestClassifier(), n_jobs=-1,\n",
       "                   param_distributions={&#x27;bootstrap&#x27;: [True, False],\n",
       "                                        &#x27;max_depth&#x27;: [2, 8, None],\n",
       "                                        &#x27;max_features&#x27;: [0.2, 0.6, 1.0],\n",
       "                                        &#x27;max_samples&#x27;: [0.5, 0.75, 1],\n",
       "                                        &#x27;min_samples_leaf&#x27;: [1, 2],\n",
       "                                        &#x27;min_samples_split&#x27;: [2, 5],\n",
       "                                        &#x27;n_estimators&#x27;: [20, 60, 100, 120]},\n",
       "                   verbose=2)</pre><b>In a Jupyter environment, please rerun this cell to show the HTML representation or trust the notebook. <br />On GitHub, the HTML representation is unable to render, please try loading this page with nbviewer.org.</b></div><div class=\"sk-container\" hidden><div class=\"sk-item sk-dashed-wrapped\"><div class=\"sk-label-container\"><div class=\"sk-label sk-toggleable\"><input class=\"sk-toggleable__control sk-hidden--visually\" id=\"sk-estimator-id-7\" type=\"checkbox\" ><label for=\"sk-estimator-id-7\" class=\"sk-toggleable__label sk-toggleable__label-arrow\">RandomizedSearchCV</label><div class=\"sk-toggleable__content\"><pre>RandomizedSearchCV(cv=5, estimator=RandomForestClassifier(), n_jobs=-1,\n",
       "                   param_distributions={&#x27;bootstrap&#x27;: [True, False],\n",
       "                                        &#x27;max_depth&#x27;: [2, 8, None],\n",
       "                                        &#x27;max_features&#x27;: [0.2, 0.6, 1.0],\n",
       "                                        &#x27;max_samples&#x27;: [0.5, 0.75, 1],\n",
       "                                        &#x27;min_samples_leaf&#x27;: [1, 2],\n",
       "                                        &#x27;min_samples_split&#x27;: [2, 5],\n",
       "                                        &#x27;n_estimators&#x27;: [20, 60, 100, 120]},\n",
       "                   verbose=2)</pre></div></div></div><div class=\"sk-parallel\"><div class=\"sk-parallel-item\"><div class=\"sk-item\"><div class=\"sk-label-container\"><div class=\"sk-label sk-toggleable\"><input class=\"sk-toggleable__control sk-hidden--visually\" id=\"sk-estimator-id-8\" type=\"checkbox\" ><label for=\"sk-estimator-id-8\" class=\"sk-toggleable__label sk-toggleable__label-arrow\">estimator: RandomForestClassifier</label><div class=\"sk-toggleable__content\"><pre>RandomForestClassifier()</pre></div></div></div><div class=\"sk-serial\"><div class=\"sk-item\"><div class=\"sk-estimator sk-toggleable\"><input class=\"sk-toggleable__control sk-hidden--visually\" id=\"sk-estimator-id-9\" type=\"checkbox\" ><label for=\"sk-estimator-id-9\" class=\"sk-toggleable__label sk-toggleable__label-arrow\">RandomForestClassifier</label><div class=\"sk-toggleable__content\"><pre>RandomForestClassifier()</pre></div></div></div></div></div></div></div></div></div></div>"
      ],
      "text/plain": [
       "RandomizedSearchCV(cv=5, estimator=RandomForestClassifier(), n_jobs=-1,\n",
       "                   param_distributions={'bootstrap': [True, False],\n",
       "                                        'max_depth': [2, 8, None],\n",
       "                                        'max_features': [0.2, 0.6, 1.0],\n",
       "                                        'max_samples': [0.5, 0.75, 1],\n",
       "                                        'min_samples_leaf': [1, 2],\n",
       "                                        'min_samples_split': [2, 5],\n",
       "                                        'n_estimators': [20, 60, 100, 120]},\n",
       "                   verbose=2)"
      ]
     },
     "execution_count": 27,
     "metadata": {},
     "output_type": "execute_result"
    }
   ],
   "source": [
    "rs.fit(xtrain ,ytrain)"
   ]
  },
  {
   "cell_type": "code",
   "execution_count": 28,
   "id": "9f64a5a8",
   "metadata": {},
   "outputs": [
    {
     "data": {
      "text/plain": [
       "{'max_depth': 8, 'max_features': 1.0, 'max_samples': 0.75, 'n_estimators': 60}"
      ]
     },
     "execution_count": 28,
     "metadata": {},
     "output_type": "execute_result"
    }
   ],
   "source": [
    "rf_grid.best_params_"
   ]
  },
  {
   "cell_type": "code",
   "execution_count": null,
   "id": "ad272921",
   "metadata": {},
   "outputs": [],
   "source": []
  }
 ],
 "metadata": {
  "kernelspec": {
   "display_name": "Python 3 (ipykernel)",
   "language": "python",
   "name": "python3"
  },
  "language_info": {
   "codemirror_mode": {
    "name": "ipython",
    "version": 3
   },
   "file_extension": ".py",
   "mimetype": "text/x-python",
   "name": "python",
   "nbconvert_exporter": "python",
   "pygments_lexer": "ipython3",
   "version": "3.10.4"
  }
 },
 "nbformat": 4,
 "nbformat_minor": 5
}
